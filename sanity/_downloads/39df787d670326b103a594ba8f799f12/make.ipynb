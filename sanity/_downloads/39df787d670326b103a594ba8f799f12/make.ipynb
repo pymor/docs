{
 "cells": [
  {
   "cell_type": "code",
   "execution_count": 1,
   "id": "d341f44d",
   "metadata": {},
   "outputs": [
    {
     "name": "stdout",
     "output_type": "stream",
     "text": [
      "-- The C compiler identification is GNU 8.3.0\n"
     ]
    },
    {
     "name": "stdout",
     "output_type": "stream",
     "text": [
      "-- The CXX compiler identification is GNU 8.3.0\n"
     ]
    },
    {
     "name": "stdout",
     "output_type": "stream",
     "text": [
      "-- Detecting C compiler ABI info\n"
     ]
    },
    {
     "name": "stdout",
     "output_type": "stream",
     "text": [
      "-- Detecting C compiler ABI info - done\n"
     ]
    },
    {
     "name": "stdout",
     "output_type": "stream",
     "text": [
      "-- Check for working C compiler: /usr/lib/ccache/cc - skipped\n"
     ]
    },
    {
     "name": "stdout",
     "output_type": "stream",
     "text": [
      "-- Detecting C compile features\n"
     ]
    },
    {
     "name": "stdout",
     "output_type": "stream",
     "text": [
      "-- Detecting C compile features - done\n"
     ]
    },
    {
     "name": "stdout",
     "output_type": "stream",
     "text": [
      "-- Detecting CXX compiler ABI info\n"
     ]
    },
    {
     "name": "stdout",
     "output_type": "stream",
     "text": [
      "-- Detecting CXX compiler ABI info - done\n"
     ]
    },
    {
     "name": "stdout",
     "output_type": "stream",
     "text": [
      "-- Check for working CXX compiler: /usr/lib/ccache/c++ - skipped\n"
     ]
    },
    {
     "name": "stdout",
     "output_type": "stream",
     "text": [
      "-- Detecting CXX compile features\n"
     ]
    },
    {
     "name": "stdout",
     "output_type": "stream",
     "text": [
      "-- Detecting CXX compile features - done\n"
     ]
    },
    {
     "name": "stdout",
     "output_type": "stream",
     "text": [
      "-- Found PythonInterp: /usr/local/bin/python (found version \"3.7.10\") \n"
     ]
    },
    {
     "name": "stdout",
     "output_type": "stream",
     "text": [
      "-- Found PythonLibs: /usr/local/lib/libpython3.7m.so\n"
     ]
    },
    {
     "name": "stdout",
     "output_type": "stream",
     "text": [
      "-- Performing Test HAS_FLTO\n"
     ]
    },
    {
     "name": "stdout",
     "output_type": "stream",
     "text": [
      "-- Performing Test HAS_FLTO - Success\n"
     ]
    },
    {
     "name": "stdout",
     "output_type": "stream",
     "text": [
      "-- Found pybind11: /usr/local/include (found version \"2.6.1\" )\n"
     ]
    },
    {
     "name": "stdout",
     "output_type": "stream",
     "text": [
      "-- Found pybind11 v2.6.1: /usr/local/include;/usr/local/include/python3.7m\n"
     ]
    },
    {
     "name": "stdout",
     "output_type": "stream",
     "text": [
      "-- Configuring done\n"
     ]
    },
    {
     "name": "stdout",
     "output_type": "stream",
     "text": [
      "-- Generating done\n"
     ]
    },
    {
     "name": "stdout",
     "output_type": "stream",
     "text": [
      "-- Build files have been written to: /builds/pymor/pymor/docs/source/minimal_cpp_demo/build\n"
     ]
    },
    {
     "name": "stdout",
     "output_type": "stream",
     "text": [
      "make[2]: Entering directory '/builds/pymor/pymor/docs/source/minimal_cpp_demo/build'\n"
     ]
    },
    {
     "name": "stdout",
     "output_type": "stream",
     "text": [
      "make[3]: Entering directory '/builds/pymor/pymor/docs/source/minimal_cpp_demo/build'\n"
     ]
    },
    {
     "name": "stdout",
     "output_type": "stream",
     "text": [
      "make[4]: Entering directory '/builds/pymor/pymor/docs/source/minimal_cpp_demo/build'\n"
     ]
    },
    {
     "name": "stdout",
     "output_type": "stream",
     "text": [
      "Scanning dependencies of target model\n"
     ]
    },
    {
     "name": "stdout",
     "output_type": "stream",
     "text": [
      "make[4]: Leaving directory '/builds/pymor/pymor/docs/source/minimal_cpp_demo/build'\n"
     ]
    },
    {
     "name": "stdout",
     "output_type": "stream",
     "text": [
      "make[4]: Entering directory '/builds/pymor/pymor/docs/source/minimal_cpp_demo/build'\n"
     ]
    },
    {
     "name": "stdout",
     "output_type": "stream",
     "text": [
      "[ 50%] Building CXX object CMakeFiles/model.dir/model.cc.o\n"
     ]
    },
    {
     "name": "stdout",
     "output_type": "stream",
     "text": [
      "[100%] Linking CXX shared module model.cpython-37m-x86_64-linux-gnu.so\n"
     ]
    },
    {
     "name": "stdout",
     "output_type": "stream",
     "text": [
      "make[4]: Leaving directory '/builds/pymor/pymor/docs/source/minimal_cpp_demo/build'\n"
     ]
    },
    {
     "name": "stdout",
     "output_type": "stream",
     "text": [
      "[100%] Built target model\n"
     ]
    },
    {
     "name": "stdout",
     "output_type": "stream",
     "text": [
      "make[3]: Leaving directory '/builds/pymor/pymor/docs/source/minimal_cpp_demo/build'\n"
     ]
    },
    {
     "name": "stdout",
     "output_type": "stream",
     "text": [
      "make[2]: Leaving directory '/builds/pymor/pymor/docs/source/minimal_cpp_demo/build'\n"
     ]
    }
   ],
   "source": [
    "mkdir -p source/minimal_cpp_demo/build\n",
    "cd source/minimal_cpp_demo/build\n",
    "cmake .. -DPYTHON_EXECUTABLE=$(which python) -DCMAKE_COLOR_MAKEFILE=OFF # prevent bash control chars in output\n",
    "make"
   ]
  }
 ],
 "metadata": {
  "kernelspec": {
   "display_name": "Bash",
   "language": "bash",
   "name": "bash"
  },
  "language_info": {
   "codemirror_mode": "shell",
   "file_extension": ".sh",
   "mimetype": "text/x-sh",
   "name": "bash"
  }
 },
 "nbformat": 4,
 "nbformat_minor": 5
}